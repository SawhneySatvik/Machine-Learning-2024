{
 "cells": [
  {
   "cell_type": "markdown",
   "metadata": {},
   "source": [
    "# Object Oriented Programming using Python\n",
    "\n",
    "## Classes and Objects\n",
    "- A '' class '' is a blueprint of a structure which has physical and logical members and methods\n",
    "- An instance of a class is an '' Object ''"
   ]
  },
  {
   "cell_type": "code",
   "execution_count": 1,
   "metadata": {},
   "outputs": [],
   "source": [
    "class Car:\n",
    "    pass\n",
    "\n",
    "audi = Car()\n",
    "bmw = Car()"
   ]
  },
  {
   "cell_type": "code",
   "execution_count": 2,
   "metadata": {},
   "outputs": [
    {
     "data": {
      "text/plain": [
       "__main__.Car"
      ]
     },
     "execution_count": 2,
     "metadata": {},
     "output_type": "execute_result"
    }
   ],
   "source": [
    "type(audi)\n",
    "type(bmw)"
   ]
  },
  {
   "cell_type": "code",
   "execution_count": 3,
   "metadata": {},
   "outputs": [
    {
     "name": "stdout",
     "output_type": "stream",
     "text": [
      "<__main__.Car object at 0x105086d50>\n",
      "<__main__.Car object at 0x1050a1610>\n"
     ]
    }
   ],
   "source": [
    "print(audi)\n",
    "print(bmw)"
   ]
  },
  {
   "cell_type": "code",
   "execution_count": 6,
   "metadata": {},
   "outputs": [],
   "source": [
    "audi.windows = 4\n",
    "# We can do this but it is inappropriate"
   ]
  },
  {
   "cell_type": "code",
   "execution_count": 9,
   "metadata": {},
   "outputs": [
    {
     "name": "stdout",
     "output_type": "stream",
     "text": [
      "4\n"
     ]
    },
    {
     "data": {
      "text/plain": [
       "['windows',\n",
       " '__module__',\n",
       " '__dict__',\n",
       " '__weakref__',\n",
       " '__doc__',\n",
       " '__new__',\n",
       " '__repr__',\n",
       " '__hash__',\n",
       " '__str__',\n",
       " '__getattribute__',\n",
       " '__setattr__',\n",
       " '__delattr__',\n",
       " '__lt__',\n",
       " '__le__',\n",
       " '__eq__',\n",
       " '__ne__',\n",
       " '__gt__',\n",
       " '__ge__',\n",
       " '__init__',\n",
       " '__reduce_ex__',\n",
       " '__reduce__',\n",
       " '__getstate__',\n",
       " '__subclasshook__',\n",
       " '__init_subclass__',\n",
       " '__format__',\n",
       " '__sizeof__',\n",
       " '__dir__',\n",
       " '__class__']"
      ]
     },
     "execution_count": 9,
     "metadata": {},
     "output_type": "execute_result"
    }
   ],
   "source": [
    "print(audi.windows)\n",
    "\n",
    "audi.__dir__()"
   ]
  },
  {
   "cell_type": "code",
   "execution_count": 10,
   "metadata": {},
   "outputs": [],
   "source": [
    "# Proper way\n",
    "\n",
    "class Dog:\n",
    "    \n",
    "    # constructor\n",
    "    def __init__(self, name, age):\n",
    "        self.name = name\n",
    "        self.age = age"
   ]
  },
  {
   "cell_type": "code",
   "execution_count": 12,
   "metadata": {},
   "outputs": [],
   "source": [
    "# Creating instances\n",
    "# dog1 = Dog() - this would give an error\n",
    "dog1 = Dog('Blackie', 12)"
   ]
  },
  {
   "cell_type": "code",
   "execution_count": 14,
   "metadata": {},
   "outputs": [
    {
     "name": "stdout",
     "output_type": "stream",
     "text": [
      "Blackie\n",
      "12\n"
     ]
    }
   ],
   "source": [
    "print(dog1.name)\n",
    "print(dog1.age)"
   ]
  },
  {
   "cell_type": "code",
   "execution_count": 16,
   "metadata": {},
   "outputs": [],
   "source": [
    "# Instance Methods\n",
    "\n",
    "class Dog:\n",
    "    #constructors\n",
    "    def __init__(self, name, age):\n",
    "        self.name = name\n",
    "        self.age = age\n",
    "        \n",
    "    #Instance methods\n",
    "    def bark(self):\n",
    "        print(f\"{self.name} barks\")"
   ]
  },
  {
   "cell_type": "code",
   "execution_count": 18,
   "metadata": {},
   "outputs": [
    {
     "name": "stdout",
     "output_type": "stream",
     "text": [
      "Doggo barks\n"
     ]
    }
   ],
   "source": [
    "# Calling instance methods\n",
    "dog1 = Dog('Doggo', 19)\n",
    "dog1.bark()"
   ]
  },
  {
   "cell_type": "code",
   "execution_count": 19,
   "metadata": {},
   "outputs": [],
   "source": [
    "# Modeling a Bank Account\n",
    "\n",
    "class BankAccount:\n",
    "    def __init__(self, owner, balance = 0):\n",
    "        self.owner = owner\n",
    "        self.balance = balance\n",
    "        \n",
    "    def deposit(self,amount):\n",
    "        self.balance+=amount\n",
    "        print(f\"{amount} is deposited. New Balance is {self.balance}\")\n",
    "        \n",
    "    def withdraw(self, amount):\n",
    "        if amount>self.balance:\n",
    "            print(\"Insufficient funds\")\n",
    "        else:\n",
    "            self.balance-=amount\n",
    "            print(f\"{amount} is withdrawn. {self.balance} is left.\")"
   ]
  },
  {
   "cell_type": "code",
   "execution_count": 20,
   "metadata": {},
   "outputs": [
    {
     "name": "stdout",
     "output_type": "stream",
     "text": [
      "10000\n"
     ]
    }
   ],
   "source": [
    "account1 = BankAccount(\"Satvik Sawhney\", 10000)\n",
    "print(account1.balance)"
   ]
  },
  {
   "cell_type": "code",
   "execution_count": 21,
   "metadata": {},
   "outputs": [
    {
     "name": "stdout",
     "output_type": "stream",
     "text": [
      "5000 is deposited. New Balance is 15000\n"
     ]
    }
   ],
   "source": [
    "account1.deposit(5000)"
   ]
  },
  {
   "cell_type": "code",
   "execution_count": 22,
   "metadata": {},
   "outputs": [
    {
     "name": "stdout",
     "output_type": "stream",
     "text": [
      "500 is withdrawn. 14500 is left.\n"
     ]
    }
   ],
   "source": [
    "account1.withdraw(500)"
   ]
  },
  {
   "cell_type": "markdown",
   "metadata": {},
   "source": [
    "## Inheritance\n",
    "- Inheritance is a fundamental concept that allows a class to inherit attributes and methods from another class.\n",
    "- It has a parent class and a child class.\n",
    "- A child class inherits from the parent class."
   ]
  },
  {
   "cell_type": "code",
   "execution_count": 23,
   "metadata": {},
   "outputs": [],
   "source": [
    "#Parent Class\n",
    "class Car:\n",
    "    def __init__(self, windows, doors, engineType):\n",
    "        self.windows = windows\n",
    "        self.doors = doors\n",
    "        self.engineType = engineType\n",
    "    \n",
    "    def drive(self):\n",
    "        print(f'The person will drive {self.engineType} car.')"
   ]
  },
  {
   "cell_type": "code",
   "execution_count": 24,
   "metadata": {},
   "outputs": [
    {
     "name": "stdout",
     "output_type": "stream",
     "text": [
      "The person will drive Petrol car.\n"
     ]
    }
   ],
   "source": [
    "car1 = Car(4, 5, \"Petrol\")\n",
    "car1.drive()"
   ]
  },
  {
   "cell_type": "code",
   "execution_count": 25,
   "metadata": {},
   "outputs": [],
   "source": [
    "#class SubClass(ParentClass):\n",
    "class Tesla(Car):\n",
    "    def __init__(self, windows, doors, engineType, is_selfdriving):\n",
    "        super().__init__(windows, doors, engineType)\n",
    "        self.is_selfdriving = is_selfdriving\n",
    "        \n",
    "    def selfdriving(self):\n",
    "        if self.is_selfdriving:\n",
    "            print('Tesla is self driving')\n",
    "        else:\n",
    "            print('No')"
   ]
  },
  {
   "cell_type": "code",
   "execution_count": 27,
   "metadata": {},
   "outputs": [
    {
     "name": "stdout",
     "output_type": "stream",
     "text": [
      "5\n",
      "The person will drive electric car.\n",
      "Tesla is self driving\n"
     ]
    }
   ],
   "source": [
    "teslaCar = Tesla(4, 5, 'electric', True)\n",
    "\n",
    "print(teslaCar.doors)\n",
    "teslaCar.drive()\n",
    "teslaCar.selfdriving()\n"
   ]
  },
  {
   "cell_type": "code",
   "execution_count": 28,
   "metadata": {},
   "outputs": [],
   "source": [
    "# Multiple Inheritance\n",
    "# When a class inherits from more than one base class, then it is said Multiple Inheritance\n",
    "\n",
    "# Base Class one\n",
    "class Animal:\n",
    "    def __init__(self, name):\n",
    "        self.name = name\n",
    "        \n",
    "    def speak(self):\n",
    "        print(\"Subclass must implement this!\")\n",
    "        \n",
    "# Base Class two\n",
    "class Pet:\n",
    "    def __init__(self, owner):\n",
    "        self.owner = owner\n",
    "        \n",
    "class Dog(Animal, Pet):\n",
    "    def __init__(self, name, owner):\n",
    "        Animal.__init__(self, name)\n",
    "        Pet.__init__(self, owner)\n",
    "        \n",
    "    def speak(self):\n",
    "        return f\"{self.name} says woof woof\"\n",
    "        "
   ]
  },
  {
   "cell_type": "code",
   "execution_count": 29,
   "metadata": {},
   "outputs": [
    {
     "data": {
      "text/plain": [
       "'Entertainment says woof woof'"
      ]
     },
     "execution_count": 29,
     "metadata": {},
     "output_type": "execute_result"
    }
   ],
   "source": [
    "dog2 = Dog(\"Entertainment\", \"Satvik\")\n",
    "\n",
    "dog2.speak()"
   ]
  },
  {
   "cell_type": "markdown",
   "metadata": {},
   "source": [
    "## Polymorphism\n",
    "Polymorphism is a feature of object-oriented programming languages that allows a routine to use variables of different types at different times. This allows programs to redefine methods for derived classes. Polymorphism helps with code reusability and flexibility.\n",
    "\n",
    "### Method Overriding\n",
    "Method overriding is a feature in object-oriented programming (OOP) languages that allows a subclass to replace a method's implementation in its superclass."
   ]
  },
  {
   "cell_type": "code",
   "execution_count": 30,
   "metadata": {},
   "outputs": [],
   "source": [
    "class Animal:\n",
    "    def speak(self):\n",
    "        return \"Sound of animal\"\n",
    "    \n",
    "class Dog(Animal):\n",
    "    def speak(self):\n",
    "        return \"woof\"\n",
    "    \n",
    "class Cat(Animal):\n",
    "    def speak(self):\n",
    "        return \"Meow\""
   ]
  },
  {
   "cell_type": "code",
   "execution_count": 32,
   "metadata": {},
   "outputs": [
    {
     "name": "stdout",
     "output_type": "stream",
     "text": [
      "Sound of animal\n",
      "woof\n",
      "Meow\n"
     ]
    }
   ],
   "source": [
    "animal = Animal()\n",
    "dog = Dog()\n",
    "cat = Cat()\n",
    "\n",
    "print(animal.speak())\n",
    "print(dog.speak())\n",
    "print(cat.speak())"
   ]
  },
  {
   "cell_type": "code",
   "execution_count": 33,
   "metadata": {},
   "outputs": [],
   "source": [
    "class Shape:\n",
    "    def area(self):\n",
    "        return \"The area of the shape\"\n",
    "    \n",
    "class Rectangle(Shape):\n",
    "    def __init__(self, length, height):\n",
    "        self.length = length\n",
    "        self.height = height\n",
    "        \n",
    "    def area(self):\n",
    "        return self.length * self.height\n",
    "    \n",
    "class Square(Rectangle):\n",
    "    def __init__(self, side):\n",
    "        self.side = side\n",
    "        \n",
    "    def area(self):\n",
    "        return self.area ** 2"
   ]
  },
  {
   "cell_type": "code",
   "execution_count": null,
   "metadata": {},
   "outputs": [],
   "source": [
    "shape = Shape()\n",
    "print(shape.area())\n",
    "\n",
    "rectangle = Rectangle()"
   ]
  },
  {
   "cell_type": "code",
   "execution_count": 34,
   "metadata": {},
   "outputs": [],
   "source": [
    "# Absrtact Methods\n",
    "\n",
    "from abc import ABC, abstractmethod\n",
    "\n",
    "class Vehicle(ABC):\n",
    "    @abstractmethod\n",
    "    def start_engine(self):\n",
    "        return \"car engine started\"\n",
    "\n",
    "class Car(Vehicle):\n",
    "    def start_engine(self):\n",
    "        return \"Car engine started\"\n",
    "    \n",
    "class MotorCycle(Vehicle):\n",
    "    def start_engine(self):\n",
    "        return \"Motocycle Engine Started\""
   ]
  },
  {
   "cell_type": "code",
   "execution_count": 36,
   "metadata": {},
   "outputs": [
    {
     "name": "stdout",
     "output_type": "stream",
     "text": [
      "Car engine started\n",
      "Motocycle Engine Started\n"
     ]
    }
   ],
   "source": [
    "car = Car()\n",
    "motorcycle = MotorCycle()\n",
    "\n",
    "print(car.start_engine())\n",
    "print(motorcycle.start_engine())"
   ]
  },
  {
   "cell_type": "markdown",
   "metadata": {},
   "source": [
    "## Encapsulation\n",
    "Encapsulation is the concept of wrapping data (variables) and methods(functions) together as a single unit. it restricts direct access to some of the object's components, which means of preventing acciendental interference and misuse of data."
   ]
  },
  {
   "cell_type": "code",
   "execution_count": 1,
   "metadata": {},
   "outputs": [
    {
     "data": {
      "text/plain": [
       "19"
      ]
     },
     "execution_count": 1,
     "metadata": {},
     "output_type": "execute_result"
    }
   ],
   "source": [
    "# Encapsulation with getter and setter\n",
    "# public, protected, and private access modifiers\n",
    "\n",
    "class Person:\n",
    "    def __init__(self, name, age):\n",
    "        self.name = name # public variable\n",
    "        self.age = age # public variable\n",
    "        \n",
    "    def get_name(person):\n",
    "        return person.name\n",
    "        \n",
    "person = Person(\"Satvik\", 19)\n",
    "person.age        "
   ]
  },
  {
   "cell_type": "code",
   "execution_count": 2,
   "metadata": {},
   "outputs": [
    {
     "data": {
      "text/plain": [
       "['__class__',\n",
       " '__delattr__',\n",
       " '__dict__',\n",
       " '__dir__',\n",
       " '__doc__',\n",
       " '__eq__',\n",
       " '__format__',\n",
       " '__ge__',\n",
       " '__getattribute__',\n",
       " '__getstate__',\n",
       " '__gt__',\n",
       " '__hash__',\n",
       " '__init__',\n",
       " '__init_subclass__',\n",
       " '__le__',\n",
       " '__lt__',\n",
       " '__module__',\n",
       " '__ne__',\n",
       " '__new__',\n",
       " '__reduce__',\n",
       " '__reduce_ex__',\n",
       " '__repr__',\n",
       " '__setattr__',\n",
       " '__sizeof__',\n",
       " '__str__',\n",
       " '__subclasshook__',\n",
       " '__weakref__',\n",
       " 'age',\n",
       " 'name']"
      ]
     },
     "execution_count": 2,
     "metadata": {},
     "output_type": "execute_result"
    }
   ],
   "source": [
    "dir(person)"
   ]
  },
  {
   "cell_type": "code",
   "execution_count": 8,
   "metadata": {},
   "outputs": [
    {
     "data": {
      "text/plain": [
       "['_PersonPrivate__age',\n",
       " '_PersonPrivate__name',\n",
       " '__class__',\n",
       " '__delattr__',\n",
       " '__dict__',\n",
       " '__dir__',\n",
       " '__doc__',\n",
       " '__eq__',\n",
       " '__format__',\n",
       " '__ge__',\n",
       " '__getattribute__',\n",
       " '__getstate__',\n",
       " '__gt__',\n",
       " '__hash__',\n",
       " '__init__',\n",
       " '__init_subclass__',\n",
       " '__le__',\n",
       " '__lt__',\n",
       " '__module__',\n",
       " '__ne__',\n",
       " '__new__',\n",
       " '__reduce__',\n",
       " '__reduce_ex__',\n",
       " '__repr__',\n",
       " '__setattr__',\n",
       " '__sizeof__',\n",
       " '__str__',\n",
       " '__subclasshook__',\n",
       " '__weakref__',\n",
       " 'gender',\n",
       " 'get_name']"
      ]
     },
     "execution_count": 8,
     "metadata": {},
     "output_type": "execute_result"
    }
   ],
   "source": [
    "class PersonPrivate:\n",
    "    def __init__(self, name, age, gender):\n",
    "        self.__name = name # private variable\n",
    "        self.__age = age # private variable\n",
    "        self.gender = gender # public variable\n",
    "        \n",
    "    def get_name(self):\n",
    "        return self.__name\n",
    "        \n",
    "person2 = PersonPrivate(\"Satvik\", 19, \"male\")\n",
    "dir(person2)"
   ]
  },
  {
   "cell_type": "code",
   "execution_count": 11,
   "metadata": {},
   "outputs": [
    {
     "name": "stdout",
     "output_type": "stream",
     "text": [
      "male\n",
      "Satvik\n"
     ]
    }
   ],
   "source": [
    "print(person2.gender)\n",
    "print(person2.get_name())  ## Using getter and setter functions"
   ]
  },
  {
   "cell_type": "code",
   "execution_count": 15,
   "metadata": {},
   "outputs": [
    {
     "data": {
      "text/plain": [
       "['_PersonPrivate__age',\n",
       " '_PersonPrivate__name',\n",
       " '__class__',\n",
       " '__delattr__',\n",
       " '__dict__',\n",
       " '__dir__',\n",
       " '__doc__',\n",
       " '__eq__',\n",
       " '__format__',\n",
       " '__ge__',\n",
       " '__getattribute__',\n",
       " '__getstate__',\n",
       " '__gt__',\n",
       " '__hash__',\n",
       " '__init__',\n",
       " '__init_subclass__',\n",
       " '__le__',\n",
       " '__lt__',\n",
       " '__module__',\n",
       " '__ne__',\n",
       " '__new__',\n",
       " '__reduce__',\n",
       " '__reduce_ex__',\n",
       " '__repr__',\n",
       " '__setattr__',\n",
       " '__sizeof__',\n",
       " '__str__',\n",
       " '__subclasshook__',\n",
       " '__weakref__',\n",
       " 'gender',\n",
       " 'get_name']"
      ]
     },
     "execution_count": 15,
     "metadata": {},
     "output_type": "execute_result"
    }
   ],
   "source": [
    "class PersonProtected:\n",
    "    def __init__(self, name, age, gender):\n",
    "        self.__name = name # private variable\n",
    "        self._age = age # protected variable - single underscore (_)\n",
    "        self.gender = gender # public variable\n",
    "        \n",
    "    def get_name(self):\n",
    "        return self.__name\n",
    "    \n",
    "class EmployeeProtected(PersonProtected):\n",
    "    def __init__(self, name, age, gender):\n",
    "        super().__init__(name, age, gender)\n",
    "        \n",
    "emp = EmployeeProtected(\"Satvik\", 19, \"male\")\n",
    "dir(person2)"
   ]
  },
  {
   "cell_type": "code",
   "execution_count": 18,
   "metadata": {},
   "outputs": [
    {
     "name": "stdout",
     "output_type": "stream",
     "text": [
      "19\n"
     ]
    }
   ],
   "source": [
    "print(emp._age)"
   ]
  },
  {
   "cell_type": "code",
   "execution_count": 21,
   "metadata": {},
   "outputs": [
    {
     "name": "stdout",
     "output_type": "stream",
     "text": [
      "18\n",
      "Sat\n",
      "19\n"
     ]
    }
   ],
   "source": [
    "class PersonComplete:\n",
    "    \n",
    "    def __init__(self, name, age):\n",
    "        self.__name = name\n",
    "        self.__age = age\n",
    "        \n",
    "    def get_name(self):\n",
    "        return self.__name\n",
    "\n",
    "    def get_age(self):\n",
    "        return self.__age\n",
    "    \n",
    "    def set_name(self, name):\n",
    "        self.__name = name\n",
    "        \n",
    "    def set_age(self, age):\n",
    "        self.__age = age\n",
    "        \n",
    "personComplete = PersonComplete(\"Sat\", 18)\n",
    "print(personComplete.get_age())\n",
    "print(personComplete.get_name())\n",
    "personComplete.set_age(personComplete.get_age()+1)\n",
    "print(personComplete.get_age())"
   ]
  },
  {
   "cell_type": "markdown",
   "metadata": {},
   "source": [
    "## Abstraction\n",
    "Abstraction is a concept of hinding the complex implementation details and showing only necessary features of the object. It helps in reducing programming complexity and effort"
   ]
  },
  {
   "cell_type": "code",
   "execution_count": 22,
   "metadata": {},
   "outputs": [],
   "source": [
    "from abc import ABC, abstractmethod\n",
    "\n",
    "# Abstract Base Class\n",
    "class Vehicle(ABC):\n",
    "    def drive(self):\n",
    "        print(\"The vehicle is used for driving\")\n",
    "        \n",
    "    @abstractmethod\n",
    "    def start_engine(self):\n",
    "        pass\n",
    "    \n",
    "# child class\n",
    "class Car(Vehicle):\n",
    "    def start_engine(self):\n",
    "        print(\"Car engine started\")"
   ]
  },
  {
   "cell_type": "code",
   "execution_count": 23,
   "metadata": {},
   "outputs": [
    {
     "name": "stdout",
     "output_type": "stream",
     "text": [
      "Car engine started\n"
     ]
    }
   ],
   "source": [
    "car1 = Car()\n",
    "car1.start_engine()"
   ]
  },
  {
   "cell_type": "markdown",
   "metadata": {},
   "source": [
    "## Magic Methods"
   ]
  },
  {
   "cell_type": "code",
   "execution_count": 1,
   "metadata": {},
   "outputs": [],
   "source": [
    "class Person:\n",
    "    pass"
   ]
  },
  {
   "cell_type": "code",
   "execution_count": 2,
   "metadata": {},
   "outputs": [
    {
     "data": {
      "text/plain": [
       "['__class__',\n",
       " '__delattr__',\n",
       " '__dict__',\n",
       " '__dir__',\n",
       " '__doc__',\n",
       " '__eq__',\n",
       " '__format__',\n",
       " '__ge__',\n",
       " '__getattribute__',\n",
       " '__getstate__',\n",
       " '__gt__',\n",
       " '__hash__',\n",
       " '__init__',\n",
       " '__init_subclass__',\n",
       " '__le__',\n",
       " '__lt__',\n",
       " '__module__',\n",
       " '__ne__',\n",
       " '__new__',\n",
       " '__reduce__',\n",
       " '__reduce_ex__',\n",
       " '__repr__',\n",
       " '__setattr__',\n",
       " '__sizeof__',\n",
       " '__str__',\n",
       " '__subclasshook__',\n",
       " '__weakref__']"
      ]
     },
     "execution_count": 2,
     "metadata": {},
     "output_type": "execute_result"
    }
   ],
   "source": [
    "person = Person()\n",
    "dir(person)"
   ]
  },
  {
   "cell_type": "code",
   "execution_count": 3,
   "metadata": {},
   "outputs": [
    {
     "name": "stdout",
     "output_type": "stream",
     "text": [
      "<__main__.Person object at 0x107c6eae0>\n"
     ]
    }
   ],
   "source": [
    "print(person)"
   ]
  },
  {
   "cell_type": "code",
   "execution_count": 4,
   "metadata": {},
   "outputs": [
    {
     "name": "stdout",
     "output_type": "stream",
     "text": [
      "<__main__.Person object at 0x107bea180>\n"
     ]
    }
   ],
   "source": [
    "class Person:\n",
    "    def __init__(self, name, age):\n",
    "        self.name = name\n",
    "        self.age = age\n",
    "        \n",
    "person = Person(\"Satvik Sawhney\", 19)\n",
    "print(person)"
   ]
  },
  {
   "cell_type": "code",
   "execution_count": 5,
   "metadata": {},
   "outputs": [
    {
     "name": "stdout",
     "output_type": "stream",
     "text": [
      "Satvik Sawhney is 19 years old.\n"
     ]
    }
   ],
   "source": [
    "class Person:\n",
    "    def __init__(self, name, age):\n",
    "        self.name = name\n",
    "        self.age = age\n",
    "        \n",
    "    def __str__(self):\n",
    "        return f\"{self.name} is {self.age} years old.\"\n",
    "    \n",
    "    def __repr__(self):\n",
    "        return f\"Person(name={self.name},age={self.age})\"\n",
    "        \n",
    "person = Person(\"Satvik Sawhney\", 19)\n",
    "print(person)"
   ]
  },
  {
   "cell_type": "code",
   "execution_count": 6,
   "metadata": {},
   "outputs": [
    {
     "data": {
      "text/plain": [
       "'\\nOperator overloading \\n__add__\\n__sub__\\n__mul__\\n__truediv__\\n__eq__\\n__lt__\\n__gt__\\n'"
      ]
     },
     "execution_count": 6,
     "metadata": {},
     "output_type": "execute_result"
    }
   ],
   "source": [
    "'''\n",
    "Operator overloading \n",
    "__add__\n",
    "__sub__\n",
    "__mul__\n",
    "__truediv__\n",
    "__eq__\n",
    "__lt__\n",
    "__gt__\n",
    "'''"
   ]
  },
  {
   "cell_type": "code",
   "execution_count": 7,
   "metadata": {},
   "outputs": [],
   "source": [
    "class Vector:\n",
    "    def __init__(self, x, y):\n",
    "        self.x = x\n",
    "        self.y = y\n",
    "        \n",
    "    def __add__(self, other):\n",
    "        return Vector(self.x+other.x, self.y+other.y)\n",
    "    \n",
    "    def __sub__(self, other):\n",
    "        return Vector(self.x-other.x, self.y-other.y)\n",
    "    \n",
    "    def __mul__(self, other):\n",
    "        return Vector(self.x*other.x, self.y*other.y)\n",
    "    \n",
    "    def __eq__(self, other):\n",
    "        return self.x==other.x and self.y==other.y\n",
    "    \n",
    "    def __repr__(self):\n",
    "        return f\"Vector({self.x}, {self.y})\""
   ]
  },
  {
   "cell_type": "code",
   "execution_count": 8,
   "metadata": {},
   "outputs": [
    {
     "name": "stdout",
     "output_type": "stream",
     "text": [
      "Vector(3, 5)\n"
     ]
    }
   ],
   "source": [
    "vec1 = Vector(1, 2)\n",
    "vec2 = Vector(2, 3)\n",
    "\n",
    "print(vec1+vec2)"
   ]
  },
  {
   "cell_type": "code",
   "execution_count": null,
   "metadata": {},
   "outputs": [],
   "source": []
  }
 ],
 "metadata": {
  "kernelspec": {
   "display_name": ".venv",
   "language": "python",
   "name": "python3"
  },
  "language_info": {
   "codemirror_mode": {
    "name": "ipython",
    "version": 3
   },
   "file_extension": ".py",
   "mimetype": "text/x-python",
   "name": "python",
   "nbconvert_exporter": "python",
   "pygments_lexer": "ipython3",
   "version": "3.12.2"
  }
 },
 "nbformat": 4,
 "nbformat_minor": 2
}
