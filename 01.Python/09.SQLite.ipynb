{
 "cells": [
  {
   "cell_type": "markdown",
   "metadata": {},
   "source": [
    "## SQLite \n",
    "SQLite is a self contained, serverless, and zero-configuration database engine that is widely used for embedded database systems."
   ]
  },
  {
   "cell_type": "code",
   "execution_count": 1,
   "metadata": {},
   "outputs": [],
   "source": [
    "import sqlite3"
   ]
  },
  {
   "cell_type": "code",
   "execution_count": 2,
   "metadata": {},
   "outputs": [],
   "source": [
    "connection = sqlite3.connect('./example.db')"
   ]
  },
  {
   "cell_type": "code",
   "execution_count": 3,
   "metadata": {},
   "outputs": [
    {
     "data": {
      "text/plain": [
       "<sqlite3.Connection at 0x111ac18a0>"
      ]
     },
     "execution_count": 3,
     "metadata": {},
     "output_type": "execute_result"
    }
   ],
   "source": [
    "connection"
   ]
  },
  {
   "cell_type": "code",
   "execution_count": 4,
   "metadata": {},
   "outputs": [],
   "source": [
    "cursor = connection.cursor()"
   ]
  },
  {
   "cell_type": "code",
   "execution_count": 6,
   "metadata": {},
   "outputs": [],
   "source": [
    "# Creating tables\n",
    "\n",
    "cursor.execute('''\n",
    "CREATE TABLE IF NOT EXISTS employee(\n",
    "    id Integer Primary Key,\n",
    "    name Text Not Null,\n",
    "    age Integer,\n",
    "    department text\n",
    ")\n",
    "''') \n",
    "\n",
    "connection.commit()"
   ]
  },
  {
   "cell_type": "code",
   "execution_count": 7,
   "metadata": {},
   "outputs": [],
   "source": [
    "# Inserting data into tables\n",
    "\n",
    "cursor.execute('''\n",
    "INSERT INTO employee (name, age, department)\n",
    "VALUES ('Satvik',19,'CS')\n",
    "''')\n",
    "\n",
    "cursor.execute('''\n",
    "INSERT INTO employee (name, age, department)\n",
    "VALUES ('Ishita',20,'Design')\n",
    "''')\n",
    "\n",
    "cursor.execute('''\n",
    "INSERT INTO employee (name, age, department)\n",
    "VALUES ('Rajni',50,'Head')\n",
    "''')\n",
    "\n",
    "connection.commit()"
   ]
  },
  {
   "cell_type": "code",
   "execution_count": 12,
   "metadata": {},
   "outputs": [
    {
     "name": "stdout",
     "output_type": "stream",
     "text": [
      "(1, 'Satvik', 19, 'CS')\n",
      "(2, 'Ishita', 20, 'Design')\n",
      "(3, 'Rajni', 50, 'Head')\n"
     ]
    }
   ],
   "source": [
    "# Fetching data\n",
    "\n",
    "cursor.execute('SELECT * FROM employee')\n",
    "rows = cursor.fetchall()\n",
    "for row in rows:\n",
    "    print(row)"
   ]
  },
  {
   "cell_type": "code",
   "execution_count": 14,
   "metadata": {},
   "outputs": [],
   "source": [
    "# Update the data\n",
    "\n",
    "cursor.execute('''\n",
    " UPDATE employee\n",
    " SET AGE=20\n",
    " WHERE NAME='Satvik'              \n",
    "''')\n",
    "\n",
    "connection.commit()"
   ]
  },
  {
   "cell_type": "code",
   "execution_count": 15,
   "metadata": {},
   "outputs": [
    {
     "name": "stdout",
     "output_type": "stream",
     "text": [
      "(1, 'Satvik', 20, 'CS')\n",
      "(2, 'Ishita', 20, 'Design')\n",
      "(3, 'Rajni', 50, 'Head')\n"
     ]
    }
   ],
   "source": [
    "# Fetching data\n",
    "\n",
    "cursor.execute('SELECT * FROM employee')\n",
    "rows = cursor.fetchall()\n",
    "for row in rows:\n",
    "    print(row)"
   ]
  },
  {
   "cell_type": "code",
   "execution_count": 16,
   "metadata": {},
   "outputs": [],
   "source": [
    "cursor.execute('''\n",
    "CREATE TABLE IF NOT EXISTS sales(\n",
    "    id INTEGER PRIMARY KEY,\n",
    "    date TEXT NOT NULL,\n",
    "    product TEXT NOT NULL,\n",
    "    sales INTEGER,\n",
    "    region TEXT\n",
    ")\n",
    "''') \n",
    "\n",
    "connection.commit()"
   ]
  },
  {
   "cell_type": "code",
   "execution_count": 17,
   "metadata": {},
   "outputs": [],
   "source": [
    "sales_data = [\n",
    "    ('2024-01-01', 'Product1', 100, 'North'),\n",
    "    ('2024-01-02', 'Product2', 200, 'South'),\n",
    "    ('2024-01-03', 'Product3', 150, 'West'),\n",
    "    ('2024-01-04', 'Product4', 400, 'East'),\n",
    "    ('2024-01-05', 'Product5', 350, 'North')\n",
    "]\n",
    "\n",
    "cursor.executemany('''\n",
    "    INSERT INTO sales(date, product, sales, region)\n",
    "    VALUES(?,?,?,?) \n",
    "''', sales_data)\n",
    "\n",
    "connection.commit()"
   ]
  },
  {
   "cell_type": "code",
   "execution_count": 18,
   "metadata": {},
   "outputs": [
    {
     "name": "stdout",
     "output_type": "stream",
     "text": [
      "(1, '2024-01-01', 'Product1', 100, 'North')\n",
      "(2, '2024-01-02', 'Product2', 200, 'South')\n",
      "(3, '2024-01-03', 'Product3', 150, 'West')\n",
      "(4, '2024-01-04', 'Product4', 400, 'East')\n",
      "(5, '2024-01-05', 'Product5', 350, 'North')\n"
     ]
    }
   ],
   "source": [
    "cursor.execute('SELECT * FROM sales')\n",
    "rows = cursor.fetchall()\n",
    "for row in rows:\n",
    "    print(row)"
   ]
  },
  {
   "cell_type": "code",
   "execution_count": 21,
   "metadata": {},
   "outputs": [],
   "source": [
    "cursor.execute('''DELETE FROM sales\n",
    "               WHERE region=\"West\"''')\n",
    "\n",
    "connection.commit()"
   ]
  },
  {
   "cell_type": "code",
   "execution_count": 22,
   "metadata": {},
   "outputs": [
    {
     "name": "stdout",
     "output_type": "stream",
     "text": [
      "(1, '2024-01-01', 'Product1', 100, 'North')\n",
      "(2, '2024-01-02', 'Product2', 200, 'South')\n",
      "(4, '2024-01-04', 'Product4', 400, 'East')\n",
      "(5, '2024-01-05', 'Product5', 350, 'North')\n"
     ]
    }
   ],
   "source": [
    "cursor.execute('SELECT * FROM sales')\n",
    "rows = cursor.fetchall()\n",
    "for row in rows:\n",
    "    print(row)"
   ]
  },
  {
   "cell_type": "code",
   "execution_count": 23,
   "metadata": {},
   "outputs": [],
   "source": [
    "connection.close()"
   ]
  }
 ],
 "metadata": {
  "kernelspec": {
   "display_name": ".venv",
   "language": "python",
   "name": "python3"
  },
  "language_info": {
   "codemirror_mode": {
    "name": "ipython",
    "version": 3
   },
   "file_extension": ".py",
   "mimetype": "text/x-python",
   "name": "python",
   "nbconvert_exporter": "python",
   "pygments_lexer": "ipython3",
   "version": "3.12.2"
  }
 },
 "nbformat": 4,
 "nbformat_minor": 2
}
