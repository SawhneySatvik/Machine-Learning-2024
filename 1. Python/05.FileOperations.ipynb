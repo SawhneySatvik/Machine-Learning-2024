{
 "cells": [
  {
   "cell_type": "markdown",
   "metadata": {},
   "source": [
    "## File Operations in Python"
   ]
  },
  {
   "cell_type": "code",
   "execution_count": 8,
   "metadata": {},
   "outputs": [
    {
     "name": "stdout",
     "output_type": "stream",
     "text": [
      "Hello !\n",
      "How are you?\n",
      "I am good \n",
      "My name is Satvik\n",
      "This is File handling in python\n",
      "\n"
     ]
    }
   ],
   "source": [
    "with open('./package/example_FH.txt', 'r') as file:\n",
    "    content = file.read()\n",
    "    print(content)"
   ]
  },
  {
   "cell_type": "code",
   "execution_count": 10,
   "metadata": {},
   "outputs": [
    {
     "name": "stdout",
     "output_type": "stream",
     "text": [
      "Hello !\n",
      "How are you?\n",
      "I am good\n",
      "My name is Satvik\n",
      "This is File handling in python\n"
     ]
    }
   ],
   "source": [
    "with open('./package/example_FH.txt', 'r') as file:\n",
    "    for line in file:\n",
    "        print(line.strip()) # Strip function removes all the spaces"
   ]
  },
  {
   "cell_type": "code",
   "execution_count": null,
   "metadata": {},
   "outputs": [],
   "source": [
    "# Writing in a file\n",
    "\n",
    "# with open('./package/example_FH.txt', 'w') as file:\n",
    "#     file.write('Hello World')\n",
    "#     file.write('Great Work!')\n",
    "#     file.write('Everything will be overwritten')"
   ]
  },
  {
   "cell_type": "code",
   "execution_count": 11,
   "metadata": {},
   "outputs": [],
   "source": [
    "# Appending without overwritting\n",
    "\n",
    "with open('./package/example_FH.txt', 'a') as file:\n",
    "    file.write('Line will be appended')"
   ]
  },
  {
   "cell_type": "code",
   "execution_count": 14,
   "metadata": {},
   "outputs": [
    {
     "name": "stdout",
     "output_type": "stream",
     "text": [
      "Hello !\n",
      "How are you?\n",
      "I am good \n",
      "My name is Satvik\n",
      "This is File handling in python\n",
      "Line will be appended\n"
     ]
    }
   ],
   "source": [
    "with open('./package/example_FH.txt', 'r') as file:\n",
    "    print(file.read())"
   ]
  },
  {
   "cell_type": "code",
   "execution_count": 25,
   "metadata": {},
   "outputs": [],
   "source": [
    "# Writing s list of lines\n",
    "lines = ['First Line\\n', 'Second Line ', 'Third Line\\n']\n",
    "with open('./package/example_FH.txt', 'a') as file:\n",
    "    file.writelines(lines)"
   ]
  },
  {
   "cell_type": "code",
   "execution_count": 26,
   "metadata": {},
   "outputs": [
    {
     "name": "stdout",
     "output_type": "stream",
     "text": [
      "Hello !\n",
      "How are you?\n",
      "I am good \n",
      "My name is Satvik\n",
      "This is File handling in python\n",
      "Line will be appendedThis is File handling in python\n",
      "This is File handling in python\n",
      "This is File handling in python\n",
      "This is File handling in python\n",
      "First LineSecond LineThird LineFirst Line\n",
      "Second Line Third LineFirst Line\n",
      "Second Line Third Line\n",
      "\n"
     ]
    }
   ],
   "source": [
    "with open('./package/example_FH.txt', 'r') as file:\n",
    "    print(file.read())\n",
    "    "
   ]
  },
  {
   "cell_type": "code",
   "execution_count": 27,
   "metadata": {},
   "outputs": [],
   "source": [
    "# Handling Binary files in python\n",
    "\n",
    "# Writing data in a binary file\n",
    "data = b'\\x00\\x01\\x02\\x03\\x04'\n",
    "with open('./package/example_bin.bin', 'wb') as file:\n",
    "    file.write(data)"
   ]
  },
  {
   "cell_type": "code",
   "execution_count": 29,
   "metadata": {},
   "outputs": [
    {
     "name": "stdout",
     "output_type": "stream",
     "text": [
      "b'\\x00\\x01\\x02\\x03\\x04'\n"
     ]
    }
   ],
   "source": [
    "with open('./package/example_bin.bin', 'rb') as file:\n",
    "    line = file.read()\n",
    "    print(line)"
   ]
  },
  {
   "cell_type": "code",
   "execution_count": 31,
   "metadata": {},
   "outputs": [],
   "source": [
    "# Read content from a source text file and write in a new destination.txt file\n",
    "\n",
    "with open('./package/example_FH.txt' , 'r') as source_file:\n",
    "    content = source_file.read()\n",
    "    \n",
    "with open('./package/dest.txt', 'w') as destination_file:\n",
    "    destination_file.write(content)\n",
    "    "
   ]
  },
  {
   "cell_type": "code",
   "execution_count": 32,
   "metadata": {},
   "outputs": [
    {
     "name": "stdout",
     "output_type": "stream",
     "text": [
      "Hello !\n",
      "How are you?\n",
      "I am good \n",
      "My name is Satvik\n",
      "This is File handling in python\n",
      "Line will be appendedThis is File handling in python\n",
      "This is File handling in python\n",
      "This is File handling in python\n",
      "This is File handling in python\n",
      "First LineSecond LineThird LineFirst Line\n",
      "Second Line Third LineFirst Line\n",
      "Second Line Third Line\n",
      "\n"
     ]
    }
   ],
   "source": [
    "with open('./package/dest.txt' , 'r') as source_file:\n",
    "    content = source_file.read()\n",
    "    print(content)"
   ]
  },
  {
   "cell_type": "code",
   "execution_count": 34,
   "metadata": {},
   "outputs": [
    {
     "name": "stdout",
     "output_type": "stream",
     "text": [
      "Hello from w+\n",
      "Last from w+\n",
      "\n"
     ]
    }
   ],
   "source": [
    "# Writing and then reading\n",
    "\n",
    "with open('./package/dest.txt', 'w+') as file:\n",
    "    file.write(\"Hello from w+\\n\")\n",
    "    file.write(\"Last from w+\\n\")\n",
    "    \n",
    "    # Move file cursor to the beginning\n",
    "    file.seek(0)\n",
    "    \n",
    "    print(file.read())"
   ]
  },
  {
   "cell_type": "code",
   "execution_count": 35,
   "metadata": {},
   "outputs": [
    {
     "name": "stdout",
     "output_type": "stream",
     "text": [
      "/Users/satviksawhney/Downloads/AIML/Krish Naik/1. Python\n"
     ]
    }
   ],
   "source": [
    "# Directory Paths\n",
    "\n",
    "import os\n",
    "pwd = os.getcwd()\n",
    "print(pwd)"
   ]
  },
  {
   "cell_type": "code",
   "execution_count": 37,
   "metadata": {},
   "outputs": [
    {
     "name": "stdout",
     "output_type": "stream",
     "text": [
      "Directory nest_package\n"
     ]
    }
   ],
   "source": [
    "new_directory = \"nest_package\"\n",
    "os.mkdir(\"./package/\"+new_directory)\n",
    "print(f'Directory {new_directory}')"
   ]
  },
  {
   "cell_type": "code",
   "execution_count": 39,
   "metadata": {},
   "outputs": [
    {
     "name": "stdout",
     "output_type": "stream",
     "text": [
      "['01.Basics.ipynb', 'test.py', '05.FileOperations.ipynb', '04.Import.ipynb', '03.Functions.ipynb', '02.InBuiltDataStructures.ipynb', 'package']\n",
      "01.Basics.ipynb\n",
      "test.py\n",
      "05.FileOperations.ipynb\n",
      "04.Import.ipynb\n",
      "03.Functions.ipynb\n",
      "02.InBuiltDataStructures.ipynb\n",
      "package\n"
     ]
    }
   ],
   "source": [
    "# List all the files in pwd\n",
    "\n",
    "items = os.listdir('.')\n",
    "print(items)\n",
    "for item in items:\n",
    "    print(item)"
   ]
  },
  {
   "cell_type": "code",
   "execution_count": 43,
   "metadata": {},
   "outputs": [
    {
     "name": "stdout",
     "output_type": "stream",
     "text": [
      "/Users/satviksawhney/Downloads/AIML/Krish Naik/1. Python/./package/folder/file.text\n"
     ]
    }
   ],
   "source": [
    "# Joining Paths\n",
    "dir_name = \"./package/folder\"\n",
    "file_name = \"file.text\"\n",
    "\n",
    "full_path = os.path.join(os.getcwd(),dir_name, file_name)\n",
    "\n",
    "print(full_path)"
   ]
  },
  {
   "cell_type": "code",
   "execution_count": 44,
   "metadata": {},
   "outputs": [
    {
     "name": "stdout",
     "output_type": "stream",
     "text": [
      "No\n"
     ]
    }
   ],
   "source": [
    "# Check if path exists\n",
    "\n",
    "path = \"example.txt\"\n",
    "if os.path.exists(path):\n",
    "    print(f'Path exists')\n",
    "else:\n",
    "    print('No')"
   ]
  },
  {
   "cell_type": "code",
   "execution_count": 45,
   "metadata": {},
   "outputs": [
    {
     "name": "stdout",
     "output_type": "stream",
     "text": [
      "File\n"
     ]
    }
   ],
   "source": [
    "# Checking if a path is a file or directory\n",
    "\n",
    "path = './package/example_FH.txt'\n",
    "\n",
    "if os.path.isfile(path):\n",
    "    print('File')\n",
    "elif os.path.isdir(path):\n",
    "    print('Directory')\n",
    "else:\n",
    "    print('None')"
   ]
  },
  {
   "cell_type": "code",
   "execution_count": 46,
   "metadata": {},
   "outputs": [
    {
     "name": "stdout",
     "output_type": "stream",
     "text": [
      "/Users/satviksawhney/Downloads/AIML/Krish Naik/1. Python/package/example.csv\n"
     ]
    }
   ],
   "source": [
    "# Getting relative path\n",
    "\n",
    "relative_path = \"./package/example.csv\"\n",
    "absolute_path = os.path.abspath(relative_path)\n",
    "print(absolute_path)"
   ]
  },
  {
   "cell_type": "code",
   "execution_count": null,
   "metadata": {},
   "outputs": [],
   "source": []
  }
 ],
 "metadata": {
  "kernelspec": {
   "display_name": ".venv",
   "language": "python",
   "name": "python3"
  },
  "language_info": {
   "codemirror_mode": {
    "name": "ipython",
    "version": 3
   },
   "file_extension": ".py",
   "mimetype": "text/x-python",
   "name": "python",
   "nbconvert_exporter": "python",
   "pygments_lexer": "ipython3",
   "version": "3.12.2"
  }
 },
 "nbformat": 4,
 "nbformat_minor": 2
}
