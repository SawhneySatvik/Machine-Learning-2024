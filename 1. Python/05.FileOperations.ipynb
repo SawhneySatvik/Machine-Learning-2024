{
 "cells": [
  {
   "cell_type": "markdown",
   "metadata": {},
   "source": [
    "## File Operations in Python"
   ]
  },
  {
   "cell_type": "code",
   "execution_count": 8,
   "metadata": {},
   "outputs": [
    {
     "name": "stdout",
     "output_type": "stream",
     "text": [
      "Hello !\n",
      "How are you?\n",
      "I am good \n",
      "My name is Satvik\n",
      "This is File handling in python\n",
      "\n"
     ]
    }
   ],
   "source": [
    "with open('./package/example_FH.txt', 'r') as file:\n",
    "    content = file.read()\n",
    "    print(content)"
   ]
  },
  {
   "cell_type": "code",
   "execution_count": 10,
   "metadata": {},
   "outputs": [
    {
     "name": "stdout",
     "output_type": "stream",
     "text": [
      "Hello !\n",
      "How are you?\n",
      "I am good\n",
      "My name is Satvik\n",
      "This is File handling in python\n"
     ]
    }
   ],
   "source": [
    "with open('./package/example_FH.txt', 'r') as file:\n",
    "    for line in file:\n",
    "        print(line.strip()) # Strip function removes all the spaces"
   ]
  },
  {
   "cell_type": "code",
   "execution_count": null,
   "metadata": {},
   "outputs": [],
   "source": [
    "# Writing in a file\n",
    "\n",
    "# with open('./package/example_FH.txt', 'w') as file:\n",
    "#     file.write('Hello World')\n",
    "#     file.write('Great Work!')\n",
    "#     file.write('Everything will be overwritten')"
   ]
  },
  {
   "cell_type": "code",
   "execution_count": 11,
   "metadata": {},
   "outputs": [],
   "source": [
    "# Appending without overwritting\n",
    "\n",
    "with open('./package/example_FH.txt', 'a') as file:\n",
    "    file.write('Line will be appended')"
   ]
  },
  {
   "cell_type": "code",
   "execution_count": 14,
   "metadata": {},
   "outputs": [
    {
     "name": "stdout",
     "output_type": "stream",
     "text": [
      "Hello !\n",
      "How are you?\n",
      "I am good \n",
      "My name is Satvik\n",
      "This is File handling in python\n",
      "Line will be appended\n"
     ]
    }
   ],
   "source": [
    "with open('./package/example_FH.txt', 'r') as file:\n",
    "    print(file.read())"
   ]
  },
  {
   "cell_type": "code",
   "execution_count": 25,
   "metadata": {},
   "outputs": [],
   "source": [
    "# Writing s list of lines\n",
    "lines = ['First Line\\n', 'Second Line ', 'Third Line\\n']\n",
    "with open('./package/example_FH.txt', 'a') as file:\n",
    "    file.writelines(lines)"
   ]
  },
  {
   "cell_type": "code",
   "execution_count": 26,
   "metadata": {},
   "outputs": [
    {
     "name": "stdout",
     "output_type": "stream",
     "text": [
      "Hello !\n",
      "How are you?\n",
      "I am good \n",
      "My name is Satvik\n",
      "This is File handling in python\n",
      "Line will be appendedThis is File handling in python\n",
      "This is File handling in python\n",
      "This is File handling in python\n",
      "This is File handling in python\n",
      "First LineSecond LineThird LineFirst Line\n",
      "Second Line Third LineFirst Line\n",
      "Second Line Third Line\n",
      "\n"
     ]
    }
   ],
   "source": [
    "with open('./package/example_FH.txt', 'r') as file:\n",
    "    print(file.read())\n",
    "    "
   ]
  },
  {
   "cell_type": "code",
   "execution_count": null,
   "metadata": {},
   "outputs": [],
   "source": []
  }
 ],
 "metadata": {
  "kernelspec": {
   "display_name": ".venv",
   "language": "python",
   "name": "python3"
  },
  "language_info": {
   "codemirror_mode": {
    "name": "ipython",
    "version": 3
   },
   "file_extension": ".py",
   "mimetype": "text/x-python",
   "name": "python",
   "nbconvert_exporter": "python",
   "pygments_lexer": "ipython3",
   "version": "3.12.2"
  }
 },
 "nbformat": 4,
 "nbformat_minor": 2
}
