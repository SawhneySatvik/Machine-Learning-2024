{
 "cells": [
  {
   "cell_type": "markdown",
   "metadata": {},
   "source": [
    "# Functions\n",
    "A function is a ablock of code that performs a certain task. They help in organisiong code, and imrove readability"
   ]
  },
  {
   "cell_type": "code",
   "execution_count": 1,
   "metadata": {},
   "outputs": [],
   "source": [
    "def function_name(parameters):\n",
    "    \"\"\"Docstring\"\"\"\n",
    "    #Function Body\n",
    "    expression  = parameters\n",
    "    return expression"
   ]
  },
  {
   "cell_type": "code",
   "execution_count": 6,
   "metadata": {},
   "outputs": [
    {
     "name": "stdout",
     "output_type": "stream",
     "text": [
      "Hello\n"
     ]
    }
   ],
   "source": [
    "# Normal Funciton\n",
    "def greet1():\n",
    "    print('Hello')\n",
    "    \n",
    "greet1()"
   ]
  },
  {
   "cell_type": "code",
   "execution_count": 7,
   "metadata": {},
   "outputs": [
    {
     "name": "stdout",
     "output_type": "stream",
     "text": [
      "Hello Satvik Sawhney\n"
     ]
    }
   ],
   "source": [
    "# Parameterised Function\n",
    "def greet2(name):\n",
    "    print(f'Hello {name}')\n",
    "\n",
    "greet2('Satvik Sawhney')"
   ]
  },
  {
   "cell_type": "code",
   "execution_count": 8,
   "metadata": {},
   "outputs": [
    {
     "name": "stdout",
     "output_type": "stream",
     "text": [
      "Hello Satvik\n",
      "Hello user\n"
     ]
    }
   ],
   "source": [
    "# Default Parameters\n",
    "def greet3(name = 'user'):\n",
    "    print(f'Hello {name}')\n",
    "    \n",
    "greet3('Satvik')\n",
    "greet3()"
   ]
  },
  {
   "cell_type": "code",
   "execution_count": 10,
   "metadata": {},
   "outputs": [
    {
     "name": "stdout",
     "output_type": "stream",
     "text": [
      "1\n",
      "2\n",
      "3\n",
      "False\n",
      "5\n",
      "6\n",
      "7\n",
      "Satvik\n",
      "True\n"
     ]
    }
   ],
   "source": [
    "# Positional arguments\n",
    "\n",
    "def print_numbers(*args):\n",
    "    for i in args:\n",
    "        print(i)\n",
    "\n",
    "print_numbers(1,2, 3, False, 5, 6, 7, 'Satvik', True)"
   ]
  },
  {
   "cell_type": "code",
   "execution_count": 12,
   "metadata": {},
   "outputs": [
    {
     "name": "stdout",
     "output_type": "stream",
     "text": [
      "name:Satvik Sawhney\n",
      "age:23\n",
      "country:India\n"
     ]
    }
   ],
   "source": [
    "# Key-value pairs positional arguments\n",
    "\n",
    "def print_details(**kwargs):\n",
    "    for key, value in kwargs.items():\n",
    "        print(f\"{key}:{value}\")\n",
    "    \n",
    "print_details(name=\"Satvik Sawhney\", age=23, country=\"India\")\n",
    "    "
   ]
  },
  {
   "cell_type": "code",
   "execution_count": 14,
   "metadata": {},
   "outputs": [
    {
     "name": "stdout",
     "output_type": "stream",
     "text": [
      "1\n",
      "2\n",
      "Satvik\n",
      "name:Satvik Sawhney\n",
      "age:19\n"
     ]
    }
   ],
   "source": [
    "def print_both(*args, **kargs):\n",
    "    for val in args:\n",
    "        print(val)\n",
    "    for key, val in kargs.items():\n",
    "        print(f'{key}:{val}')\n",
    "        \n",
    "print_both(1,2,'Satvik', name='Satvik Sawhney', age=19)"
   ]
  },
  {
   "cell_type": "code",
   "execution_count": null,
   "metadata": {},
   "outputs": [],
   "source": [
    "def mul(a, b):\n",
    "    return a*b\n",
    "\n",
    "mul"
   ]
  }
 ],
 "metadata": {
  "kernelspec": {
   "display_name": ".venv",
   "language": "python",
   "name": "python3"
  },
  "language_info": {
   "codemirror_mode": {
    "name": "ipython",
    "version": 3
   },
   "file_extension": ".py",
   "mimetype": "text/x-python",
   "name": "python",
   "nbconvert_exporter": "python",
   "pygments_lexer": "ipython3",
   "version": "3.12.2"
  }
 },
 "nbformat": 4,
 "nbformat_minor": 2
}
