{
 "cells": [
  {
   "cell_type": "markdown",
   "metadata": {},
   "source": [
    "## Exception Handling\n",
    "\n",
    "Exceptions are event that disrupts the normal flow of program. They occur when an error is encountered during program execution. Common exceptions include :\n",
    "- ZeroDivisionError\n",
    "- FileNotFoundError\n",
    "- ValueError\n",
    "- TypeError \n",
    "\n",
    "Exception handling in Python allows us to handle errors gracefully and take corrective actions without stopping the execition flow of the program. This notebook covers basics of exceptions, including how to use try, except, else, and finally block"
   ]
  },
  {
   "cell_type": "code",
   "execution_count": 1,
   "metadata": {},
   "outputs": [
    {
     "name": "stdout",
     "output_type": "stream",
     "text": [
      "Variable isn't assigned yet\n"
     ]
    }
   ],
   "source": [
    "# try - except blocks\n",
    "\n",
    "try:\n",
    "    a=b\n",
    "except:\n",
    "    print(\"Variable isn't assigned yet\")"
   ]
  },
  {
   "cell_type": "code",
   "execution_count": 2,
   "metadata": {},
   "outputs": [
    {
     "name": "stdout",
     "output_type": "stream",
     "text": [
      "Variable isn't assigned yet - name 'b' is not defined\n"
     ]
    }
   ],
   "source": [
    "try:\n",
    "    a=b\n",
    "except NameError as ex:\n",
    "    print(f\"Variable isn't assigned yet - {ex}\")"
   ]
  },
  {
   "cell_type": "code",
   "execution_count": 3,
   "metadata": {},
   "outputs": [
    {
     "name": "stdout",
     "output_type": "stream",
     "text": [
      "division by zero\n"
     ]
    }
   ],
   "source": [
    "try:\n",
    "    result = 100/0\n",
    "except ZeroDivisionError as ex:\n",
    "    print(ex)"
   ]
  },
  {
   "cell_type": "code",
   "execution_count": 4,
   "metadata": {},
   "outputs": [
    {
     "name": "stdout",
     "output_type": "stream",
     "text": [
      "division by zero\n"
     ]
    }
   ],
   "source": [
    "# Exception is the super class for all the exceptions, one can use and handle similarly\n",
    "\n",
    "try:\n",
    "    result = 100/0\n",
    "except Exception as ex:\n",
    "    print(ex)"
   ]
  },
  {
   "cell_type": "code",
   "execution_count": 9,
   "metadata": {},
   "outputs": [
    {
     "name": "stdout",
     "output_type": "stream",
     "text": [
      "0.8333333333333334\n"
     ]
    }
   ],
   "source": [
    "# Handling multiple exceptions\n",
    "\n",
    "try:\n",
    "    num = int(input(\"Enter a number: \"))\n",
    "    result = 10 / num\n",
    "except ValueError as e:\n",
    "    print(\"Value Error: \",e)\n",
    "except ZeroDivisionError as z:\n",
    "    print(\"Division Error: \", z)\n",
    "except Exception as ex:\n",
    "    print(ex)\n",
    "    \n",
    "print(result)"
   ]
  },
  {
   "cell_type": "code",
   "execution_count": 12,
   "metadata": {},
   "outputs": [
    {
     "name": "stdout",
     "output_type": "stream",
     "text": [
      "No Exception\n",
      "0.1\n"
     ]
    }
   ],
   "source": [
    "#Else statemnts with try - except\n",
    "\n",
    "try:\n",
    "    num = int(input(\"Enter a number: \"))\n",
    "    result = 10 / num\n",
    "except ValueError as e:\n",
    "    print(\"Value Error: \",e)\n",
    "except ZeroDivisionError as z:\n",
    "    print(\"Division Error: \", z)\n",
    "except Exception as ex:\n",
    "    print(ex)\n",
    "else:\n",
    "    print('No Exception')\n",
    "    \n",
    "print(result)"
   ]
  },
  {
   "cell_type": "code",
   "execution_count": null,
   "metadata": {},
   "outputs": [],
   "source": [
    "# Finally\n",
    "\n",
    "try:\n",
    "    num = int(input(\"Enter a number: \"))\n",
    "    result = 10 / num\n",
    "except ValueError as e:\n",
    "    print(\"Value Error: \",e)\n",
    "except ZeroDivisionError as z:\n",
    "    print(\"Division Error: \", z)\n",
    "except Exception as ex:\n",
    "    print(ex)\n",
    "else:\n",
    "    print('No Exception')\n",
    "finally:\n",
    "    print(\"Prints Everytime, it executes every time\")\n",
    "    \n",
    "print(result)"
   ]
  },
  {
   "cell_type": "code",
   "execution_count": 16,
   "metadata": {},
   "outputs": [
    {
     "name": "stdout",
     "output_type": "stream",
     "text": [
      "File not found:  [Errno 2] No such file or directory: 'example.txt'\n"
     ]
    }
   ],
   "source": [
    "# File Handling and exception handling\n",
    "\n",
    "try:\n",
    "    file =  open('example.txt', 'r')\n",
    "    content = file.read()\n",
    "    print(content)\n",
    "\n",
    "except FileNotFoundError as FE:\n",
    "    print(\"File not found: \", FE)\n",
    "\n",
    "finally:\n",
    "    if 'file' in locals() and not file.closed():\n",
    "        file.close()\n",
    "        print(\"File Closed\")\n",
    "        "
   ]
  },
  {
   "cell_type": "markdown",
   "metadata": {},
   "source": [
    "## Exception"
   ]
  },
  {
   "cell_type": "code",
   "execution_count": 1,
   "metadata": {},
   "outputs": [],
   "source": [
    "class NewException(Exception):\n",
    "    pass\n",
    "\n",
    "class DOBException(Exception):\n",
    "    pass"
   ]
  },
  {
   "cell_type": "code",
   "execution_count": 4,
   "metadata": {},
   "outputs": [
    {
     "name": "stdout",
     "output_type": "stream",
     "text": [
      "The age is valid and you can apply for exams\n"
     ]
    }
   ],
   "source": [
    "year = int(input(\"Enter DOB:\"))\n",
    "age = 2024-year\n",
    "\n",
    "try:\n",
    "    if age <=30 and age>=20:\n",
    "        print(\"The age is valid and you can apply for exams\")\n",
    "    else:\n",
    "        raise DOBException\n",
    "except DOBException:\n",
    "    print(\"Sorry your age should be greater than 20 or less than 30\")"
   ]
  },
  {
   "cell_type": "code",
   "execution_count": null,
   "metadata": {},
   "outputs": [],
   "source": []
  }
 ],
 "metadata": {
  "kernelspec": {
   "display_name": ".venv",
   "language": "python",
   "name": "python3"
  },
  "language_info": {
   "codemirror_mode": {
    "name": "ipython",
    "version": 3
   },
   "file_extension": ".py",
   "mimetype": "text/x-python",
   "name": "python",
   "nbconvert_exporter": "python",
   "pygments_lexer": "ipython3",
   "version": "3.12.2"
  }
 },
 "nbformat": 4,
 "nbformat_minor": 2
}
