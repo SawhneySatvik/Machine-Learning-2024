{
 "cells": [
  {
   "cell_type": "markdown",
   "metadata": {},
   "source": [
    "# Basics - Refresher"
   ]
  },
  {
   "cell_type": "code",
   "execution_count": 2,
   "metadata": {},
   "outputs": [
    {
     "data": {
      "text/plain": [
       "' Multi Line comment'"
      ]
     },
     "execution_count": 2,
     "metadata": {},
     "output_type": "execute_result"
    }
   ],
   "source": [
    "# Single line Comments\n",
    "''' Multi Line comment'''"
   ]
  },
  {
   "cell_type": "code",
   "execution_count": 3,
   "metadata": {},
   "outputs": [
    {
     "name": "stdout",
     "output_type": "stream",
     "text": [
      "Satvik\n",
      "Sawhney\n"
     ]
    }
   ],
   "source": [
    "# Python is case sensitivity\n",
    "\n",
    "name = 'Satvik'\n",
    "Name = 'Sawhney'\n",
    "\n",
    "print(name)\n",
    "print(Name)"
   ]
  },
  {
   "cell_type": "code",
   "execution_count": 5,
   "metadata": {},
   "outputs": [
    {
     "name": "stdout",
     "output_type": "stream",
     "text": [
      "True\n"
     ]
    }
   ],
   "source": [
    "# Indentation - Python uses indentation to define blocks of code, structure and hierarchy\n",
    "if(name==\"Satvik\"):\n",
    "    print(True)"
   ]
  },
  {
   "cell_type": "code",
   "execution_count": 7,
   "metadata": {},
   "outputs": [],
   "source": [
    "# Variables\n",
    "# In python we directly declare variable without infering a class, python compiler/ interpreter does dynamic typing and decide type during runtime\n",
    "name = 'Satvik'\n",
    "age = 18"
   ]
  },
  {
   "cell_type": "code",
   "execution_count": 10,
   "metadata": {},
   "outputs": [
    {
     "name": "stdout",
     "output_type": "stream",
     "text": [
      "<class 'str'>\n",
      "<class 'int'>\n"
     ]
    }
   ],
   "source": [
    "# Tpye Inference\n",
    "print(type(name))\n",
    "print(type(age))"
   ]
  },
  {
   "cell_type": "code",
   "execution_count": 11,
   "metadata": {},
   "outputs": [
    {
     "data": {
      "text/plain": [
       "False"
      ]
     },
     "execution_count": 11,
     "metadata": {},
     "output_type": "execute_result"
    }
   ],
   "source": [
    "a = 10\n",
    "b = '10'\n",
    "a==b"
   ]
  },
  {
   "cell_type": "code",
   "execution_count": 16,
   "metadata": {},
   "outputs": [
    {
     "name": "stdout",
     "output_type": "stream",
     "text": [
      "<class 'int'>\n",
      "<class 'float'>\n",
      "<class 'str'>\n",
      "<class 'bool'>\n",
      "<class 'list'>\n",
      "<class 'dict'>\n",
      "<class 'str'>\n",
      "<class 'int'>\n"
     ]
    }
   ],
   "source": [
    "# Data types in pyhton\n",
    "\n",
    "# Integer\n",
    "a = 19\n",
    "print(type(a))\n",
    "\n",
    "# Floating Point\n",
    "b = 100.0\n",
    "print(type(b))\n",
    "\n",
    "# String\n",
    "c = 'Satvik Sawhney'\n",
    "print(type(c))\n",
    "\n",
    "# Boolean - by default python voolean value returns false\n",
    "d = True\n",
    "print(type(d))\n",
    "\n",
    "# Lists are arrays - have some dynamic properties as well\n",
    "e = []\n",
    "print(type(e))\n",
    "\n",
    "# Dictionaries are key - value pairs\n",
    "f = {}\n",
    "print(type(f))\n",
    "\n",
    "# String\n",
    "g = 'a'\n",
    "print(type(g))\n",
    "\n",
    "# Integer\n",
    "h = 0\n",
    "print(type(h))"
   ]
  },
  {
   "cell_type": "code",
   "execution_count": 18,
   "metadata": {},
   "outputs": [
    {
     "name": "stdout",
     "output_type": "stream",
     "text": [
      "Name:  Satvik Sawhney\n",
      "Age: 100\n"
     ]
    }
   ],
   "source": [
    "# Printing in python\n",
    "\n",
    "print('Name: ', c)\n",
    "print(f'Age: {a}')"
   ]
  },
  {
   "cell_type": "code",
   "execution_count": 22,
   "metadata": {},
   "outputs": [
    {
     "name": "stdout",
     "output_type": "stream",
     "text": [
      "Satvik Sawhney\n"
     ]
    }
   ],
   "source": [
    "# Naming convention\n",
    "'''\n",
    "- Variable names should be descriptive\n",
    "- They must start with a letter or underscores (_)\n",
    "- Variable names are case sensitive\n",
    "- They can contain numbers but should not start with them\n",
    "'''\n",
    "_name = 'Satvik'\n",
    "last_name_1 = 'Sawhney'\n",
    "\n",
    "# String Concatenation\n",
    "print(_name + ' ' + last_name_1)"
   ]
  },
  {
   "cell_type": "code",
   "execution_count": 26,
   "metadata": {},
   "outputs": [
    {
     "name": "stdout",
     "output_type": "stream",
     "text": [
      "<class 'int'>\n",
      "<class 'float'>\n",
      "<class 'str'>\n"
     ]
    }
   ],
   "source": [
    "# Type Conversion\n",
    "ans = 20\n",
    "print(type(ans))\n",
    "ans = float(ans)\n",
    "print(type(ans))\n",
    "ans = str(ans)\n",
    "print(type(ans))"
   ]
  },
  {
   "cell_type": "code",
   "execution_count": 27,
   "metadata": {},
   "outputs": [
    {
     "name": "stdout",
     "output_type": "stream",
     "text": [
      "10   <class 'int'>\n",
      "Hello   <class 'str'>\n",
      "3.14   <class 'float'>\n"
     ]
    }
   ],
   "source": [
    "# Dynamic Typing \n",
    "# Python allows type of variable to change as program progresses\n",
    "var = 10\n",
    "print(var, ' ', type(var))\n",
    "\n",
    "var = 'Hello'\n",
    "print(var, ' ' ,type(var))\n",
    "\n",
    "var = 3.14\n",
    "print(var,' ', type(var))"
   ]
  },
  {
   "cell_type": "code",
   "execution_count": 36,
   "metadata": {},
   "outputs": [
    {
     "name": "stdout",
     "output_type": "stream",
     "text": [
      "12 - <class 'str'>\n",
      "18 - <class 'int'>\n",
      "0 - <class 'int'>\n",
      "True - <class 'bool'>\n",
      "0 - <class 'str'>\n",
      "False - <class 'bool'>\n"
     ]
    }
   ],
   "source": [
    "# Input\n",
    "age1 = input(\"Enter your age\") # By default is string\n",
    "age2 = int(input(\"Enter your age\")) # type casted to boolean\n",
    "truth1 = int(input('Enter truth'))\n",
    "truth2 = bool(input('Enter truth')) # string to bool is everthing True\n",
    "truth3 = input('Enter truth')\n",
    "truth4 = bool(int(input('Enter truth'))) # 0 - False, 1- True\n",
    "\n",
    "print(age1, '-', type(age1))\n",
    "print(age2, '-', type(age2))\n",
    "print(truth1, '-', type(truth1))\n",
    "print(truth2, '-', type(truth2))\n",
    "print(truth3, '-', type(truth3))\n",
    "print(truth4, '-', type(truth4))"
   ]
  },
  {
   "cell_type": "code",
   "execution_count": 35,
   "metadata": {},
   "outputs": [
    {
     "name": "stdout",
     "output_type": "stream",
     "text": [
      "True - <class 'bool'>\n"
     ]
    }
   ],
   "source": [
    "truth2 = bool(input('Enter truth'))\n",
    "print(truth2, '-', type(truth2))"
   ]
  },
  {
   "cell_type": "code",
   "execution_count": null,
   "metadata": {},
   "outputs": [],
   "source": []
  }
 ],
 "metadata": {
  "kernelspec": {
   "display_name": ".venv",
   "language": "python",
   "name": "python3"
  },
  "language_info": {
   "codemirror_mode": {
    "name": "ipython",
    "version": 3
   },
   "file_extension": ".py",
   "mimetype": "text/x-python",
   "name": "python",
   "nbconvert_exporter": "python",
   "pygments_lexer": "ipython3",
   "version": "3.12.2"
  }
 },
 "nbformat": 4,
 "nbformat_minor": 2
}
